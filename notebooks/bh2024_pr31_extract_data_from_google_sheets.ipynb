{
 "cells": [
  {
   "cell_type": "code",
   "id": "initial_id",
   "metadata": {
    "collapsed": true,
    "ExecuteTime": {
     "end_time": "2024-11-07T12:32:23.840912Z",
     "start_time": "2024-11-07T12:32:23.838276Z"
    }
   },
   "source": [
    "from omnipy import (HttpUrlDataset,\n",
    "                    HttpUrlModel,\n",
    "                    JsonDataset,\n",
    "                    LinearFlowTemplate,\n",
    "                    load_urls_into_new_dataset,\n",
    "                    async_load_urls_into_new_dataset,\n",
    "                    PandasDataset,\n",
    "                    runtime,\n",
    "                    StrDataset,\n",
    "                    TaskTemplate)\n",
    "\n",
    "runtime.config.data.terminal_size_lines = 500\n",
    "runtime.config.data.terminal_size_columns = 100\n"
   ],
   "outputs": [],
   "execution_count": 38
  },
  {
   "metadata": {
    "ExecuteTime": {
     "end_time": "2024-11-07T12:21:32.309009Z",
     "start_time": "2024-11-07T12:21:32.307096Z"
    }
   },
   "cell_type": "code",
   "source": [
    "GOOGLE_API_KEY = 'PUT YOU API KEY HERE'\n",
    "# To get a Google Sheets API key, follow the instructions e.g. here: \n",
    "# https://handsondataviz.org/google-sheets-api-key.html"
   ],
   "id": "ee0252511e138d7",
   "outputs": [],
   "execution_count": 13
  },
  {
   "metadata": {
    "ExecuteTime": {
     "end_time": "2024-11-07T12:21:33.137498Z",
     "start_time": "2024-11-07T12:21:33.132663Z"
    }
   },
   "cell_type": "code",
   "source": [
    "\n",
    "@TaskTemplate\n",
    "def generate_google_spreadsheet_url(title: str, spreadsheet_id: str) -> HttpUrlDataset:\n",
    "    url = HttpUrlModel('https://sheets.googleapis.com/')\n",
    "    url.path // 'v4' // 'spreadsheets' // spreadsheet_id\n",
    "    url.query['key'] = GOOGLE_API_KEY\n",
    "    return HttpUrlDataset({title: url})\n",
    "\n",
    "\n",
    "@TaskTemplate\n",
    "def extract_titles_from_google_spreadsheet(data: JsonDataset) -> StrDataset:\n",
    "    titles = [sheet['properties']['title'] for sheet in data[0]['sheets']]\n",
    "    return StrDataset(zip(titles, titles))\n",
    "\n",
    "\n",
    "@TaskTemplate(iterate_over_data_files=True, output_dataset_cls=HttpUrlDataset)\n",
    "def generate_google_single_sheet_urls(sheet_title: str) -> HttpUrlModel:\n",
    "    url = HttpUrlModel('https://sheets.googleapis.com/')\n",
    "    url.path // 'v4' // 'spreadsheets' // spreadsheet_id // 'values' // sheet_title\n",
    "    url.query['key'] = GOOGLE_API_KEY\n",
    "    return url\n",
    "\n",
    "\n",
    "@TaskTemplate\n",
    "def convert_spreadsheets_to_pandas(data: JsonDataset) -> PandasDataset:\n",
    "    return PandasDataset({key: val['values'] for key, val in data[1:].items() if 'values' in val})\n"
   ],
   "id": "b9517f826dd2c964",
   "outputs": [],
   "execution_count": 14
  },
  {
   "metadata": {
    "ExecuteTime": {
     "end_time": "2024-11-07T12:32:29.529237Z",
     "start_time": "2024-11-07T12:32:29.525228Z"
    }
   },
   "cell_type": "code",
   "source": [
    "# @LinearFlowTemplate(\n",
    "#     generate_google_spreadsheet_url,\n",
    "#     load_urls_into_new_dataset,\n",
    "#     extract_titles_from_google_spreadsheet,\n",
    "#     generate_google_single_sheet_urls,\n",
    "#     load_urls_into_new_dataset,\n",
    "#     convert_spreadsheets_to_pandas,\n",
    "# )\n",
    "# def download_all_sheets_from_google_spreadsheet(title: str, spreadsheet_id: str) -> JsonDataset:\n",
    "#     ...\n",
    "\n",
    "async def download_all_sheets_from_google_spreadsheet(title: str, spreadsheet_id: str) -> JsonDataset:\n",
    "    spreadsheet_title = 'FAIRtracks Flattened Schema'\n",
    "    spreadsheet_id = '1spmdLLZr8XyhUKbSvbt_NETtzA5zpxmusFoP1o1Ppic'\n",
    "    main_url = generate_google_spreadsheet_url.run(spreadsheet_title, spreadsheet_id)\n",
    "    dataset = await async_load_urls_into_new_dataset.run(main_url)\n",
    "    titles = extract_titles_from_google_spreadsheet.run(dataset)\n",
    "    sheet_urls = generate_google_single_sheet_urls.run(titles)\n",
    "    sheet_contents = await async_load_urls_into_new_dataset.run(sheet_urls)\n",
    "    return convert_spreadsheets_to_pandas.run(sheet_contents)"
   ],
   "id": "a9d8ebd236f913cc",
   "outputs": [],
   "execution_count": 39
  },
  {
   "metadata": {
    "ExecuteTime": {
     "end_time": "2024-11-07T12:32:32.459185Z",
     "start_time": "2024-11-07T12:32:31.126780Z"
    }
   },
   "cell_type": "code",
   "source": "dataset = await download_all_sheets_from_google_spreadsheet(spreadsheet_title, spreadsheet_id)",
   "id": "6ff7cc5abeecfe15",
   "outputs": [
    {
     "name": "stdout",
     "output_type": "stream",
     "text": [
      "[OMNIPY ] Thu Nov  7 13:32:31 2024 - INFO: Initialized \"task-generate-google-spreadsheet-url-scrupulous-piculet\" (omnipy.hub.registry.RunStateRegistry)\n",
      "[OMNIPY ] Thu Nov  7 13:32:31 2024 - INFO: Started running \"task-generate-google-spreadsheet-url-scrupulous-piculet\"... (omnipy.hub.registry.RunStateRegistry)\n",
      "[OMNIPY ] Thu Nov  7 13:32:31 2024 - INFO: Finished running \"task-generate-google-spreadsheet-url-scrupulous-piculet\"! (omnipy.hub.registry.RunStateRegistry)\n",
      "[OMNIPY ] Thu Nov  7 13:32:31 2024 - INFO: Writing dataset as a gzipped tarpack to \"/Users/sveinugu/PycharmProjects/omnipy/docs/notebooks/outputs/2024_11_07-13_32_31/00_task_generate_google_spreadsheet_url.tar.gz\" (omnipy.compute.task.TaskWithMixins)\n",
      "[OMNIPY ] Thu Nov  7 13:32:31 2024 - INFO: Initialized \"task-async-load-urls-into-new-dataset-benevolent-husky\" (omnipy.hub.registry.RunStateRegistry)\n",
      "[OMNIPY ] Thu Nov  7 13:32:31 2024 - INFO: Started running \"task-async-load-urls-into-new-dataset-benevolent-husky\"... (omnipy.hub.registry.RunStateRegistry)\n",
      "[OMNIPY ] Thu Nov  7 13:32:31 2024 - INFO: Results of task-async-load-urls-into-new-dataset-benevolent-husky is not a Dataset and cannot be automatically serialized and persisted! (omnipy.compute.task.TaskWithMixins)\n",
      "[OMNIPY ] Thu Nov  7 13:32:31 2024 - INFO: Initialized \"task-get-json-from-api-endpoint-rugged-turtle\" (omnipy.hub.registry.RunStateRegistry)\n",
      "[OMNIPY ] Thu Nov  7 13:32:31 2024 - INFO: Started running \"task-get-json-from-api-endpoint-rugged-turtle\"... (omnipy.hub.registry.RunStateRegistry)\n",
      "[OMNIPY ] Thu Nov  7 13:32:31 2024 - INFO: Results of task-get-json-from-api-endpoint-rugged-turtle is not a Dataset and cannot be automatically serialized and persisted! (omnipy.compute.task.TaskWithMixins)\n",
      "[OMNIPY ] Thu Nov  7 13:32:31 2024 - INFO: Finished running \"task-get-json-from-api-endpoint-rugged-turtle\"! (omnipy.hub.registry.RunStateRegistry)\n",
      "[OMNIPY ] Thu Nov  7 13:32:31 2024 - INFO: Finished running \"task-async-load-urls-into-new-dataset-benevolent-husky\"! (omnipy.hub.registry.RunStateRegistry)\n",
      "[OMNIPY ] Thu Nov  7 13:32:31 2024 - INFO: Initialized \"task-extract-titles-from-google-spreadsheet-resilient-civet\" (omnipy.hub.registry.RunStateRegistry)\n",
      "[OMNIPY ] Thu Nov  7 13:32:31 2024 - INFO: Started running \"task-extract-titles-from-google-spreadsheet-resilient-civet\"... (omnipy.hub.registry.RunStateRegistry)\n",
      "[OMNIPY ] Thu Nov  7 13:32:31 2024 - INFO: Finished running \"task-extract-titles-from-google-spreadsheet-resilient-civet\"! (omnipy.hub.registry.RunStateRegistry)\n",
      "[OMNIPY ] Thu Nov  7 13:32:31 2024 - INFO: Writing dataset as a gzipped tarpack to \"/Users/sveinugu/PycharmProjects/omnipy/docs/notebooks/outputs/2024_11_07-13_32_31/01_task_extract_titles_from_google_spreadsheet.tar.gz\" (omnipy.compute.task.TaskWithMixins)\n",
      "[OMNIPY ] Thu Nov  7 13:32:31 2024 - INFO: Initialized \"task-generate-google-single-sheet-urls-tall-parrot\" (omnipy.hub.registry.RunStateRegistry)\n",
      "[OMNIPY ] Thu Nov  7 13:32:31 2024 - INFO: Started running \"task-generate-google-single-sheet-urls-tall-parrot\"... (omnipy.hub.registry.RunStateRegistry)\n",
      "[OMNIPY ] Thu Nov  7 13:32:31 2024 - INFO: Finished running \"task-generate-google-single-sheet-urls-tall-parrot\"! (omnipy.hub.registry.RunStateRegistry)\n",
      "[OMNIPY ] Thu Nov  7 13:32:31 2024 - INFO: Writing dataset as a gzipped tarpack to \"/Users/sveinugu/PycharmProjects/omnipy/docs/notebooks/outputs/2024_11_07-13_32_31/02_task_generate_google_single_sheet_urls.tar.gz\" (omnipy.compute.task.TaskWithMixins)\n",
      "[OMNIPY ] Thu Nov  7 13:32:31 2024 - INFO: Initialized \"task-async-load-urls-into-new-dataset-azure-taipan\" (omnipy.hub.registry.RunStateRegistry)\n",
      "[OMNIPY ] Thu Nov  7 13:32:31 2024 - INFO: Started running \"task-async-load-urls-into-new-dataset-azure-taipan\"... (omnipy.hub.registry.RunStateRegistry)\n",
      "[OMNIPY ] Thu Nov  7 13:32:31 2024 - INFO: Results of task-async-load-urls-into-new-dataset-azure-taipan is not a Dataset and cannot be automatically serialized and persisted! (omnipy.compute.task.TaskWithMixins)\n",
      "[OMNIPY ] Thu Nov  7 13:32:31 2024 - INFO: Initialized \"task-get-json-from-api-endpoint-just-seagull\" (omnipy.hub.registry.RunStateRegistry)\n",
      "[OMNIPY ] Thu Nov  7 13:32:31 2024 - INFO: Started running \"task-get-json-from-api-endpoint-just-seagull\"... (omnipy.hub.registry.RunStateRegistry)\n",
      "[OMNIPY ] Thu Nov  7 13:32:31 2024 - INFO: Results of task-get-json-from-api-endpoint-just-seagull is not a Dataset and cannot be automatically serialized and persisted! (omnipy.compute.task.TaskWithMixins)\n",
      "[OMNIPY ] Thu Nov  7 13:32:32 2024 - INFO: Finished running \"task-get-json-from-api-endpoint-just-seagull\"! (omnipy.hub.registry.RunStateRegistry)\n",
      "[OMNIPY ] Thu Nov  7 13:32:32 2024 - INFO: Finished running \"task-async-load-urls-into-new-dataset-azure-taipan\"! (omnipy.hub.registry.RunStateRegistry)\n",
      "[OMNIPY ] Thu Nov  7 13:32:32 2024 - INFO: Initialized \"task-convert-spreadsheets-to-pandas-jovial-wildebeest\" (omnipy.hub.registry.RunStateRegistry)\n",
      "[OMNIPY ] Thu Nov  7 13:32:32 2024 - INFO: Started running \"task-convert-spreadsheets-to-pandas-jovial-wildebeest\"... (omnipy.hub.registry.RunStateRegistry)\n",
      "[OMNIPY ] Thu Nov  7 13:32:32 2024 - INFO: Finished running \"task-convert-spreadsheets-to-pandas-jovial-wildebeest\"! (omnipy.hub.registry.RunStateRegistry)\n",
      "[OMNIPY ] Thu Nov  7 13:32:32 2024 - INFO: Writing dataset as a gzipped tarpack to \"/Users/sveinugu/PycharmProjects/omnipy/docs/notebooks/outputs/2024_11_07-13_32_32/00_task_convert_spreadsheets_to_pandas.tar.gz\" (omnipy.compute.task.TaskWithMixins)\n"
     ]
    },
    {
     "name": "stderr",
     "output_type": "stream",
     "text": [
      "/var/folders/6d/dtcphyhn2knf0p0mx1nt7mr40000gp/T/ipykernel_23061/4058843772.py:1: RuntimeWarning: coroutine 'download_all_sheets_from_google_spreadsheet' was never awaited\n",
      "  dataset = await download_all_sheets_from_google_spreadsheet(spreadsheet_title, spreadsheet_id)\n",
      "RuntimeWarning: Enable tracemalloc to get the object allocation traceback\n"
     ]
    }
   ],
   "execution_count": 40
  },
  {
   "metadata": {
    "ExecuteTime": {
     "end_time": "2024-11-07T12:32:35.363020Z",
     "start_time": "2024-11-07T12:32:35.277943Z"
    }
   },
   "cell_type": "code",
   "source": "dataset",
   "id": "394580065bd0fe3d",
   "outputs": [
    {
     "name": "stderr",
     "output_type": "stream",
     "text": [
      "[ASYNCIO] Thu Nov  7 13:32:35 2024 - ERROR: Unclosed client session\n",
      "client_session: <omnipy.modules.remote.helpers.RateLimitingClientSession object at 0x104072ad0> (asyncio)\n",
      "[ASYNCIO] Thu Nov  7 13:32:35 2024 - ERROR: Unclosed client session\n",
      "client_session: <omnipy.modules.remote.helpers.RateLimitingClientSession object at 0x32c5564d0> (asyncio)\n"
     ]
    },
    {
     "data": {
      "text/plain": [
       "╭─────┬──────────────────┬─────────────┬──────────┬────────────────────╮\n",
       "│   # │ Data file name   │ Type        │   Length │ Size (in memory)   │\n",
       "├─────┼──────────────────┼─────────────┼──────────┼────────────────────┤\n",
       "│   0 │ Schema_New       │ PandasModel │       64 │ 102.2 kB           │\n",
       "│   1 │ UPLOAD           │ PandasModel │       55 │ 98.4 kB            │\n",
       "│   2 │ DToL Fields      │ PandasModel │       78 │ 69.6 kB            │\n",
       "╰─────┴──────────────────┴─────────────┴──────────┴────────────────────╯"
      ]
     },
     "execution_count": 41,
     "metadata": {},
     "output_type": "execute_result"
    }
   ],
   "execution_count": 41
  }
 ],
 "metadata": {
  "kernelspec": {
   "display_name": "Python 3",
   "language": "python",
   "name": "python3"
  },
  "language_info": {
   "codemirror_mode": {
    "name": "ipython",
    "version": 2
   },
   "file_extension": ".py",
   "mimetype": "text/x-python",
   "name": "python",
   "nbconvert_exporter": "python",
   "pygments_lexer": "ipython2",
   "version": "2.7.6"
  }
 },
 "nbformat": 4,
 "nbformat_minor": 5
}
