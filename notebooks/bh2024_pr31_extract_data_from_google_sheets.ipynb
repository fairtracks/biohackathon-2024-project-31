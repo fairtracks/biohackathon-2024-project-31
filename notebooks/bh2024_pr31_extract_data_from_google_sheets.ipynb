{
 "cells": [
  {
   "cell_type": "code",
   "id": "initial_id",
   "metadata": {
    "collapsed": true
   },
   "source": [
    "from omnipy import (HttpUrlDataset,\n",
    "                    HttpUrlModel,\n",
    "                    JsonDataset,\n",
    "                    JsonListOfDictsDataset,\n",
    "                    LinearFlowTemplate,\n",
    "                    load_urls_into_new_dataset,\n",
    "                    async_load_urls_into_new_dataset,\n",
    "                    PandasDataset,\n",
    "                    PandasModel,        \n",
    "                    runtime,\n",
    "                    StrDataset,\n",
    "                    TaskTemplate,TableWithColNamesDataset)\n",
    "\n",
    "runtime.config.data.terminal_size_lines = 500\n",
    "runtime.config.data.terminal_size_columns = 100\n"
   ],
   "outputs": [],
   "execution_count": null
  },
  {
   "metadata": {},
   "cell_type": "code",
   "source": [
    "GOOGLE_API_KEY = 'PUT_YOUR_GOOGLE_API_KEY_HERE'\n",
    "# To get a Google Sheets API key, follow the instructions e.g. here: \n",
    "# https://handsondataviz.org/google-sheets-api-key.html"
   ],
   "id": "ee0252511e138d7",
   "outputs": [],
   "execution_count": null
  },
  {
   "metadata": {},
   "cell_type": "code",
   "source": [
    "\n",
    "@TaskTemplate\n",
    "def generate_google_spreadsheet_url(title: str, spreadsheet_id: str) -> HttpUrlDataset:\n",
    "    url = HttpUrlModel('https://sheets.googleapis.com/')\n",
    "    url.path // 'v4' // 'spreadsheets' // spreadsheet_id\n",
    "    url.query['key'] = GOOGLE_API_KEY\n",
    "    return HttpUrlDataset({title: url})\n",
    "\n",
    "\n",
    "@TaskTemplate\n",
    "def extract_titles_from_google_spreadsheet(data: JsonDataset) -> StrDataset:\n",
    "    titles = [sheet['properties']['title'] for sheet in data[0]['sheets']]\n",
    "    return StrDataset(zip(titles, titles))\n",
    "\n",
    "\n",
    "@TaskTemplate(iterate_over_data_files=True, output_dataset_cls=HttpUrlDataset)\n",
    "def generate_google_single_sheet_urls(sheet_title: str) -> HttpUrlModel:\n",
    "    url = HttpUrlModel('https://sheets.googleapis.com/')\n",
    "    url.path // 'v4' // 'spreadsheets' // spreadsheet_id // 'values' // sheet_title\n",
    "    url.query['key'] = GOOGLE_API_KEY\n",
    "    return url\n",
    "\n",
    "\n",
    "@TaskTemplate\n",
    "def convert_spreadsheets_to_pandas(data: JsonDataset) -> PandasDataset:\n",
    "    return PandasDataset(TableWithColNamesDataset({key: val['values'] for key, val in data[1:].items() if 'values' in val}))\n"
   ],
   "id": "b9517f826dd2c964",
   "outputs": [],
   "execution_count": null
  },
  {
   "metadata": {},
   "cell_type": "code",
   "source": [
    "# @LinearFlowTemplate(\n",
    "#     generate_google_spreadsheet_url,\n",
    "#     load_urls_into_new_dataset,\n",
    "#     extract_titles_from_google_spreadsheet,\n",
    "#     generate_google_single_sheet_urls,\n",
    "#     load_urls_into_new_dataset,\n",
    "#     convert_spreadsheets_to_pandas,\n",
    "# )\n",
    "# def download_all_sheets_from_google_spreadsheet(title: str, spreadsheet_id: str) -> JsonDataset:\n",
    "#     ...\n",
    "\n",
    "\n",
    "async def download_all_sheets_from_google_spreadsheet(title: str, spreadsheet_id: str) -> JsonDataset:\n",
    "    main_url = generate_google_spreadsheet_url.run(spreadsheet_title, spreadsheet_id)\n",
    "    dataset = await async_load_urls_into_new_dataset.run(main_url)\n",
    "    titles = extract_titles_from_google_spreadsheet.run(dataset)\n",
    "    sheet_urls = generate_google_single_sheet_urls.run(titles)\n",
    "    sheet_contents = await async_load_urls_into_new_dataset.run(sheet_urls)\n",
    "    return convert_spreadsheets_to_pandas.run(sheet_contents)"
   ],
   "id": "a9d8ebd236f913cc",
   "outputs": [],
   "execution_count": null
  },
  {
   "metadata": {},
   "cell_type": "code",
   "source": [
    "spreadsheet_title = 'FAIRtracks Flattened Schema'\n",
    "spreadsheet_id = '1spmdLLZr8XyhUKbSvbt_NETtzA5zpxmusFoP1o1Ppic'\n",
    "dataset = await download_all_sheets_from_google_spreadsheet(spreadsheet_title, spreadsheet_id)"
   ],
   "id": "a340d7cb1c3cd81e",
   "outputs": [],
   "execution_count": null
  },
  {
   "metadata": {},
   "cell_type": "code",
   "source": "whyqd_schema = JsonListOfDictsDataset({'FAIRtracks_convenience_schema_for_genomic_annotations': PandasModel(dataset[3][['name', 'type']])})",
   "id": "394580065bd0fe3d",
   "outputs": [],
   "execution_count": null
  },
  {
   "metadata": {},
   "cell_type": "code",
   "source": "whyqd_schema.save('whyqd_schemas')",
   "id": "6db02e67549bc8a7",
   "outputs": [],
   "execution_count": null
  },
  {
   "metadata": {},
   "cell_type": "code",
   "source": "",
   "id": "98f4a6aed46182c1",
   "outputs": [],
   "execution_count": null
  }
 ],
 "metadata": {
  "kernelspec": {
   "display_name": "Python 3",
   "language": "python",
   "name": "python3"
  },
  "language_info": {
   "codemirror_mode": {
    "name": "ipython",
    "version": 2
   },
   "file_extension": ".py",
   "mimetype": "text/x-python",
   "name": "python",
   "nbconvert_exporter": "python",
   "pygments_lexer": "ipython2",
   "version": "2.7.6"
  }
 },
 "nbformat": 4,
 "nbformat_minor": 5
}
